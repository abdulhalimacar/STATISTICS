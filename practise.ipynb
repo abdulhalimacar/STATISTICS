{
  "nbformat": 4,
  "nbformat_minor": 0,
  "metadata": {
    "colab": {
      "provenance": []
    },
    "kernelspec": {
      "name": "python3",
      "display_name": "Python 3"
    },
    "language_info": {
      "name": "python"
    }
  },
  "cells": [
    {
      "cell_type": "code",
      "source": [
        "class Product:\n",
        "\n",
        "  def __init__(self,name,typ):\n",
        "    self.name = name \n",
        "    self.typ = typ \n",
        "\n",
        "  def pri(self,fiy):\n",
        "    fiy-=fiy*0.2\n",
        "    return f\"the price is {fiy}\"\n",
        "\n",
        "p1 = Product(\"iphone\",\"phone\")\n",
        "\n",
        "p1.name\n",
        "\n",
        "p1.pri(1000)"
      ],
      "metadata": {
        "colab": {
          "base_uri": "https://localhost:8080/",
          "height": 35
        },
        "id": "uvwOQi_Za0lZ",
        "outputId": "14e0cc70-026c-40c4-ece7-59c3e5497bcd"
      },
      "execution_count": 12,
      "outputs": [
        {
          "output_type": "execute_result",
          "data": {
            "text/plain": [
              "'the price is 800.0'"
            ],
            "application/vnd.google.colaboratory.intrinsic+json": {
              "type": "string"
            }
          },
          "metadata": {},
          "execution_count": 12
        }
      ]
    },
    {
      "cell_type": "code",
      "source": [
        "class Question:\n",
        "\n",
        "  def __init__(self,soru,choices,answer):\n",
        "    self.soru = soru \n",
        "    self.choices = choices \n",
        "    self.answer = answer \n",
        "\n",
        "  def check_answer(self,cev):\n",
        "    return cev==self.answer \n",
        "\n",
        "  def che2(self,ans):\n",
        "    if ans not in self.choices:\n",
        "      return ValueError(\"hatalı girdi\") \n",
        "    return ans==self.answer\n",
        "\n",
        "q1 = Question(\"en iyi dil\",[\"python\",\"java\",\"dart\",\"c++\"],\"python\")\n",
        "q2 = Question(\"en çok kullanılan dil\",[\"python\",\"java\",\"dart\",\"c++\"],\"c++\")\n",
        "q3 = Question(\"en etkili dil\",[\"python\",\"java\",\"dart\",\"c++\"],\"java\") \n",
        "\n",
        "q1.soru\n",
        "q1.answer\n",
        "\n",
        "q1.check_answer(\"java\") \n",
        "q1.che2(\"py\") "
      ],
      "metadata": {
        "colab": {
          "base_uri": "https://localhost:8080/"
        },
        "id": "flTs9obbcH_h",
        "outputId": "9adcef29-9d49-448c-d087-f5e4538290ef"
      },
      "execution_count": 20,
      "outputs": [
        {
          "output_type": "execute_result",
          "data": {
            "text/plain": [
              "ValueError('hatalı girdi')"
            ]
          },
          "metadata": {},
          "execution_count": 20
        }
      ]
    },
    {
      "cell_type": "code",
      "source": [
        "class Quiz: \n",
        "\n",
        "  def __init__(self,questions):\n",
        "    self.questions = questions\n",
        "    self.ind = 1\n",
        "\n",
        "  def getQuestion(self):\n",
        "    question = self.questions[self.ind]\n",
        "    return question \n",
        "\n",
        "  def displayQuestion(self):\n",
        "    question2 = self.getQuestion()\n",
        "\n",
        "    print(f\"soru {self.ind+1}:{question2.soru}\") \n",
        "\n",
        "    for q in question2.choices:\n",
        "      print(\"-\"+q)\n",
        "\n",
        "    print(question2.answer)      \n",
        "\n",
        "sorular = [q1,q2,q3] \n",
        "quiz = Quiz(sorular)\n",
        "\n",
        "quiz.getQuestion().answer\n",
        "\n",
        "quiz.displayQuestion()"
      ],
      "metadata": {
        "colab": {
          "base_uri": "https://localhost:8080/"
        },
        "id": "syuQ2H7kcIEL",
        "outputId": "89ae7047-23e3-415b-95da-aa22a11e993b"
      },
      "execution_count": 21,
      "outputs": [
        {
          "output_type": "stream",
          "name": "stdout",
          "text": [
            "soru 2:en çok kullanılan dil\n",
            "-python\n",
            "-java\n",
            "-dart\n",
            "-c++\n",
            "c++\n"
          ]
        }
      ]
    },
    {
      "cell_type": "code",
      "source": [
        "quiz.questions[quiz.ind].choices\n",
        "\n",
        "#index nosunu sıfır yaparak birinci sorunun şıklarını aldık\n",
        "#we got firs questions' choices by making index zero "
      ],
      "metadata": {
        "colab": {
          "base_uri": "https://localhost:8080/"
        },
        "id": "p9gR-xGMkcyH",
        "outputId": "5c5c6703-76f8-45ae-9429-6f0aac24cb4d"
      },
      "execution_count": 39,
      "outputs": [
        {
          "output_type": "execute_result",
          "data": {
            "text/plain": [
              "['python', 'java', 'dart', 'c++']"
            ]
          },
          "metadata": {},
          "execution_count": 39
        }
      ]
    },
    {
      "cell_type": "code",
      "source": [
        "import matplotlib.pyplot as plt\n",
        "\n",
        "x = [0, 1, 2, 3, 4, 5, 6]\n",
        "y = [0, 16, 25, 36, 1, 4, 9]\n",
        "\n",
        "plt.plot(x, y, 'ro', label='Data Points') # 'ro' means red dots\n",
        "plt.plot(x, y, 'b-', label='Line of Best Fit') # 'b-' means blue solid line\n",
        "plt.axvline(x=2, color='g', linestyle='--', label='Vertical Line at x=2') # vertical line at x=2\n",
        "plt.axhline(y=25, color='m', linestyle='-.', label='Horizontal Line at y=25') # horizontal line at y=25\n",
        "plt.xlabel('x')\n",
        "plt.ylabel('y')\n",
        "plt.title('Plot of x vs. y') \n",
        "plt.legend()\n",
        "plt.show()\n"
      ],
      "metadata": {
        "colab": {
          "base_uri": "https://localhost:8080/",
          "height": 472
        },
        "id": "lnZw2NsZhZNn",
        "outputId": "0454fd96-3cea-4dd1-a485-a1218f6f9220"
      },
      "execution_count": 2,
      "outputs": [
        {
          "output_type": "display_data",
          "data": {
            "text/plain": [
              "<Figure size 640x480 with 1 Axes>"
            ],
            "image/png": "[encoded data removed]"
          },
          "metadata": {}
        }
      ]
    },
    {
      "cell_type": "code",
      "source": [
        "plt.plot(x, y, 'ro', label='Data Points') # 'ro' means red dots\n",
        "plt.plot(x, y, 'y-') # 'b-' means blue solid line\n",
        "plt.xlabel('x')\n",
        "plt.ylabel('y')\n",
        "plt.title('Plot of x vs. y')\n",
        "plt.legend()\n",
        "plt.show()"
      ],
      "metadata": {
        "colab": {
          "base_uri": "https://localhost:8080/",
          "height": 472
        },
        "id": "IBV5Yrxyh61N",
        "outputId": "d205de29-eb4f-4842-9922-0d8c6f55d50f"
      },
      "execution_count": 4,
      "outputs": [
        {
          "output_type": "display_data",
          "data": {
            "text/plain": [
              "<Figure size 640x480 with 1 Axes>"
            ],
            "image/png": "[encoded data removed]"
          },
          "metadata": {}
        }
      ]
    },
    {
      "cell_type": "code",
      "source": [
        "import numpy as np\n",
        "import matplotlib.pyplot as plt"
      ],
      "metadata": {
        "id": "SMRaqyzUyX-2"
      },
      "execution_count": 4,
      "outputs": []
    },
    {
      "cell_type": "code",
      "source": [
        "(38/7-10)/(2/np.sqrt(7))"
      ],
      "metadata": {
        "colab": {
          "base_uri": "https://localhost:8080/"
        },
        "id": "WC9Rv-b8mRFI",
        "outputId": "4fbdc462-3214-4ad8-8f80-99b405db76e3"
      },
      "execution_count": 2,
      "outputs": [
        {
          "output_type": "execute_result",
          "data": {
            "text/plain": [
              "-6.047431568147636"
            ]
          },
          "metadata": {},
          "execution_count": 2
        }
      ]
    },
    {
      "cell_type": "code",
      "source": [
        "import statistics \n",
        "from scipy.stats import stats"
      ],
      "metadata": {
        "id": "Ukso-N34yaMo"
      },
      "execution_count": 1,
      "outputs": []
    },
    {
      "cell_type": "code",
      "source": [
        "stats.norm.ppf(1-0.05)"
      ],
      "metadata": {
        "colab": {
          "base_uri": "https://localhost:8080/"
        },
        "id": "w2ybn5rAZwjR",
        "outputId": "ee57c4a5-907f-4175-f865-fc5d8f93d5ce"
      },
      "execution_count": 7,
      "outputs": [
        {
          "output_type": "execute_result",
          "data": {
            "text/plain": [
              "1.6448536269514722"
            ]
          },
          "metadata": {},
          "execution_count": 7
        }
      ]
    },
    {
      "cell_type": "code",
      "source": [
        "from scipy import stats\n",
        "\n",
        "stats.norm.ppf(1 - (0.05/2))\n"
      ],
      "metadata": {
        "colab": {
          "base_uri": "https://localhost:8080/"
        },
        "id": "dtAAmL7wZ_zN",
        "outputId": "bf30f135-7a93-4a10-9686-68e7ad72c9bb"
      },
      "execution_count": 6,
      "outputs": [
        {
          "output_type": "execute_result",
          "data": {
            "text/plain": [
              "1.959963984540054"
            ]
          },
          "metadata": {},
          "execution_count": 6
        }
      ]
    },
    {
      "cell_type": "code",
      "source": [
        "stats.norm.ppf(1-0.05)"
      ],
      "metadata": {
        "colab": {
          "base_uri": "https://localhost:8080/"
        },
        "id": "iHnjjAi2aWvR",
        "outputId": "aa3e2ad7-5ac3-4c79-986d-35c00f12e1a0"
      },
      "execution_count": 8,
      "outputs": [
        {
          "output_type": "execute_result",
          "data": {
            "text/plain": [
              "1.6448536269514722"
            ]
          },
          "metadata": {},
          "execution_count": 8
        }
      ]
    },
    {
      "cell_type": "code",
      "source": [
        "stats.norm.cdf(0.91)"
      ],
      "metadata": {
        "colab": {
          "base_uri": "https://localhost:8080/"
        },
        "id": "GvonTu5Vazco",
        "outputId": "1920ef69-dfa0-4b1e-b32c-e7c9d408b1a6"
      },
      "execution_count": 15,
      "outputs": [
        {
          "output_type": "execute_result",
          "data": {
            "text/plain": [
              "0.8185887451082028"
            ]
          },
          "metadata": {},
          "execution_count": 15
        }
      ]
    },
    {
      "cell_type": "code",
      "source": [
        "1-0.8185887451082028\n"
      ],
      "metadata": {
        "colab": {
          "base_uri": "https://localhost:8080/"
        },
        "id": "QotaYD7lbLZ7",
        "outputId": "1abe3715-c0ed-4a22-9fa0-f981f85da222"
      },
      "execution_count": 16,
      "outputs": [
        {
          "output_type": "execute_result",
          "data": {
            "text/plain": [
              "0.1814112548917972"
            ]
          },
          "metadata": {},
          "execution_count": 16
        }
      ]
    },
    {
      "cell_type": "code",
      "source": [
        "stats.norm.cdf(1.83)"
      ],
      "metadata": {
        "colab": {
          "base_uri": "https://localhost:8080/"
        },
        "id": "W5hg4vI6bOH9",
        "outputId": "6ec099a2-589c-434e-999a-6d11b9bc01c2"
      },
      "execution_count": 17,
      "outputs": [
        {
          "output_type": "execute_result",
          "data": {
            "text/plain": [
              "0.9663750305803717"
            ]
          },
          "metadata": {},
          "execution_count": 17
        }
      ]
    },
    {
      "cell_type": "code",
      "source": [
        "1-0.9663750305803717"
      ],
      "metadata": {
        "colab": {
          "base_uri": "https://localhost:8080/"
        },
        "id": "MGBQMmjObhNe",
        "outputId": "4cb69e1d-7814-4017-90d2-071c0e4fac5e"
      },
      "execution_count": 18,
      "outputs": [
        {
          "output_type": "execute_result",
          "data": {
            "text/plain": [
              "0.03362496941962834"
            ]
          },
          "metadata": {},
          "execution_count": 18
        }
      ]
    },
    {
      "cell_type": "code",
      "source": [
        "0.03362496941962834*2"
      ],
      "metadata": {
        "colab": {
          "base_uri": "https://localhost:8080/"
        },
        "id": "tHhzsXJbbjNv",
        "outputId": "420d5541-0942-4110-fca3-c520fa4d8488"
      },
      "execution_count": 19,
      "outputs": [
        {
          "output_type": "execute_result",
          "data": {
            "text/plain": [
              "0.06724993883925667"
            ]
          },
          "metadata": {},
          "execution_count": 19
        }
      ]
    },
    {
      "cell_type": "code",
      "source": [
        "class Card:\n",
        "\n",
        "  def __init__(self,ad,tur):\n",
        "    self.ad = ad \n",
        "    self.tur = tur \n",
        "\n",
        "  def __repr__(self):\n",
        "    return f\"{self.ad} {self.tur}\"\n",
        "  \n",
        "kart2 = Card(\"sinekA\",\"sinek\")\n",
        "\n",
        "print(kart2) "
      ],
      "metadata": {
        "colab": {
          "base_uri": "https://localhost:8080/"
        },
        "id": "Agj1G7Q-bkjb",
        "outputId": "c76a718d-ca40-42f5-8d3b-46dad9be72b5"
      },
      "execution_count": 35,
      "outputs": [
        {
          "output_type": "stream",
          "name": "stdout",
          "text": [
            "sinekA sinek\n"
          ]
        }
      ]
    },
    {
      "cell_type": "code",
      "source": [
        "class Card:\n",
        "\n",
        "  def __init__(self,ad,tür):\n",
        "    self.ad = ad \n",
        "    self.tür = tür \n",
        "\n",
        "  def __repr__(self):\n",
        "    return f\"{self.ad} {self.tür}\"\n",
        "\n",
        "\n",
        "kart1 = Card(\"sinekA\",\"sinek\")\n",
        "\n",
        "print(kart1)"
      ],
      "metadata": {
        "colab": {
          "base_uri": "https://localhost:8080/"
        },
        "id": "vxgQkcVVwaUr",
        "outputId": "3878f540-de18-47a1-b9f1-7d9f7c1500d5"
      },
      "execution_count": 32,
      "outputs": [
        {
          "output_type": "stream",
          "name": "stdout",
          "text": [
            "sinekA sinek\n"
          ]
        }
      ]
    },
    {
      "cell_type": "code",
      "source": [
        "from scipy import stats"
      ],
      "metadata": {
        "id": "YxULoKrr1YCR"
      },
      "execution_count": 2,
      "outputs": []
    },
    {
      "cell_type": "code",
      "source": [
        "stats.t.cdf()"
      ],
      "metadata": {
        "id": "MqWwmfCsvup2"
      },
      "execution_count": null,
      "outputs": []
    },
    {
      "cell_type": "code",
      "source": [
        "stats.t.ppf(q=1-0.01/2,df=24)"
      ],
      "metadata": {
        "colab": {
          "base_uri": "https://localhost:8080/"
        },
        "id": "nCd5OTnov1TH",
        "outputId": "71e09d11-553a-4207-f592-12da8eb98974"
      },
      "execution_count": 3,
      "outputs": [
        {
          "output_type": "execute_result",
          "data": {
            "text/plain": [
              "2.796939504772804"
            ]
          },
          "metadata": {},
          "execution_count": 3
        }
      ]
    },
    {
      "cell_type": "code",
      "source": [
        "stats.t.cdf(1.96,23)"
      ],
      "metadata": {
        "colab": {
          "base_uri": "https://localhost:8080/"
        },
        "id": "hHDcmmF4v-92",
        "outputId": "6ff993ff-f108-4da2-902d-38259710c5d0"
      },
      "execution_count": 4,
      "outputs": [
        {
          "output_type": "execute_result",
          "data": {
            "text/plain": [
              "0.9688894809741215"
            ]
          },
          "metadata": {},
          "execution_count": 4
        }
      ]
    },
    {
      "cell_type": "code",
      "source": [
        "2*0.9688894809741215\n"
      ],
      "metadata": {
        "colab": {
          "base_uri": "https://localhost:8080/"
        },
        "id": "Yc7HkPSWw50i",
        "outputId": "33834964-b2f6-452a-d792-992bb7f3d5ca"
      },
      "execution_count": 5,
      "outputs": [
        {
          "output_type": "execute_result",
          "data": {
            "text/plain": [
              "1.937778961948243"
            ]
          },
          "metadata": {},
          "execution_count": 5
        }
      ]
    },
    {
      "cell_type": "code",
      "source": [
        "stats.t.cdf(1.96,23)"
      ],
      "metadata": {
        "colab": {
          "base_uri": "https://localhost:8080/"
        },
        "id": "GeqE5NOSw8uB",
        "outputId": "46b57524-fccc-41b1-e2bc-4421eca64155"
      },
      "execution_count": 6,
      "outputs": [
        {
          "output_type": "execute_result",
          "data": {
            "text/plain": [
              "0.9688894809741215"
            ]
          },
          "metadata": {},
          "execution_count": 6
        }
      ]
    },
    {
      "cell_type": "code",
      "source": [
        "2*(1-0.9688894809741215)\n"
      ],
      "metadata": {
        "colab": {
          "base_uri": "https://localhost:8080/"
        },
        "id": "EQne0W6p005i",
        "outputId": "426252ca-038c-4036-9c5d-44cbab0a8932"
      },
      "execution_count": 9,
      "outputs": [
        {
          "output_type": "execute_result",
          "data": {
            "text/plain": [
              "0.06222103805175694"
            ]
          },
          "metadata": {},
          "execution_count": 9
        }
      ]
    },
    {
      "cell_type": "code",
      "source": [
        "from scipy.stats import t\n",
        "\n",
        "t_value = 1.96\n",
        "n = 24\n",
        "\n",
        "# Calculate the degrees of freedom\n",
        "df = n - 1\n",
        "\n",
        "# Calculate the p-value\n",
        "p_value = 2 * (1 - t.cdf(abs(t_value), df))\n",
        "\n",
        "print(\"p-value:\", p_value)\n"
      ],
      "metadata": {
        "colab": {
          "base_uri": "https://localhost:8080/"
        },
        "id": "ggrYDcB7zzz8",
        "outputId": "af58b31e-f57d-47a5-8314-b7aa73fa232c"
      },
      "execution_count": 7,
      "outputs": [
        {
          "output_type": "stream",
          "name": "stdout",
          "text": [
            "p-value: 0.06222103805175694\n"
          ]
        }
      ]
    },
    {
      "cell_type": "code",
      "source": [
        "from scipy.stats import t\n",
        "\n",
        "t_value = 2.05\n",
        "n = 20\n",
        "\n",
        "# Calculate the degrees of freedom\n",
        "df = n - 1\n",
        "\n",
        "# Calculate the p-value\n",
        "p_value = 2 * (1 - t.cdf(abs(t_value), df))\n",
        "\n",
        "print(\"p-value:\", p_value)\n"
      ],
      "metadata": {
        "colab": {
          "base_uri": "https://localhost:8080/"
        },
        "id": "wrA4U6tw0KcL",
        "outputId": "b9acc821-99dc-4146-8a0c-9020b3190316"
      },
      "execution_count": 8,
      "outputs": [
        {
          "output_type": "stream",
          "name": "stdout",
          "text": [
            "p-value: 0.05442233735152402\n"
          ]
        }
      ]
    },
    {
      "cell_type": "code",
      "source": [
        "stats.norm.cdf(-1.6)"
      ],
      "metadata": {
        "colab": {
          "base_uri": "https://localhost:8080/"
        },
        "id": "GdivNpP30snn",
        "outputId": "585c3608-cfa9-4545-d229-184bc24aefc4"
      },
      "execution_count": 21,
      "outputs": [
        {
          "output_type": "execute_result",
          "data": {
            "text/plain": [
              "0.054799291699557974"
            ]
          },
          "metadata": {},
          "execution_count": 21
        }
      ]
    },
    {
      "cell_type": "code",
      "source": [
        "1-stats.norm.cdf(-1.6)"
      ],
      "metadata": {
        "colab": {
          "base_uri": "https://localhost:8080/"
        },
        "id": "cInmwLWY2wX3",
        "outputId": "f9b88022-ed0e-418c-ca76-9c237b005bcc"
      },
      "execution_count": 20,
      "outputs": [
        {
          "output_type": "execute_result",
          "data": {
            "text/plain": [
              "0.945200708300442"
            ]
          },
          "metadata": {},
          "execution_count": 20
        }
      ]
    },
    {
      "cell_type": "code",
      "source": [
        "class Card:\n",
        "\n",
        "  def __init__(self,ad,tür):\n",
        "    self.ad = ad \n",
        "    self.tür = tür \n",
        "\n",
        "  def __repr__(self):\n",
        "    return f\"{self.ad} {self.tür}\"\n",
        "\n",
        "\n",
        "kart1 = Card(\"sinekA\",\"sinek\")\n",
        "\n",
        "print(kart1)"
      ],
      "metadata": {
        "colab": {
          "base_uri": "https://localhost:8080/"
        },
        "id": "iFEiswid295i",
        "outputId": "f9c7311e-94e9-4ef3-fe74-6e4384daeb40"
      },
      "execution_count": 22,
      "outputs": [
        {
          "output_type": "stream",
          "name": "stdout",
          "text": [
            "sinekA sinek\n"
          ]
        }
      ]
    },
    {
      "cell_type": "code",
      "source": [
        "for i in range(1,5):\n",
        "  for k in range(6,9):\n",
        "    print(i,k)"
      ],
      "metadata": {
        "colab": {
          "base_uri": "https://localhost:8080/"
        },
        "id": "U2q22kN2DHMO",
        "outputId": "dc5c0c39-2d05-4990-9a04-33fb28b8a210"
      },
      "execution_count": 23,
      "outputs": [
        {
          "output_type": "stream",
          "name": "stdout",
          "text": [
            "1 6\n",
            "1 7\n",
            "1 8\n",
            "2 6\n",
            "2 7\n",
            "2 8\n",
            "3 6\n",
            "3 7\n",
            "3 8\n",
            "4 6\n",
            "4 7\n",
            "4 8\n"
          ]
        }
      ]
    },
    {
      "cell_type": "code",
      "source": [
        "[(i,k) for i in range(1,5) for k in range(6,9)]"
      ],
      "metadata": {
        "colab": {
          "base_uri": "https://localhost:8080/"
        },
        "id": "vL41VaHUDQ0X",
        "outputId": "d98ed4ab-059f-454b-b3fd-70d5dca5b6d7"
      },
      "execution_count": 26,
      "outputs": [
        {
          "output_type": "execute_result",
          "data": {
            "text/plain": [
              "[(1, 6),\n",
              " (1, 7),\n",
              " (1, 8),\n",
              " (2, 6),\n",
              " (2, 7),\n",
              " (2, 8),\n",
              " (3, 6),\n",
              " (3, 7),\n",
              " (3, 8),\n",
              " (4, 6),\n",
              " (4, 7),\n",
              " (4, 8)]"
            ]
          },
          "metadata": {},
          "execution_count": 26
        }
      ]
    },
    {
      "cell_type": "code",
      "source": [
        "tipler = [\"karo\",\"sinek\",\"kupa\",\"maç\"]\n",
        "degerler = [\"A\",\"2\",\"3\",\"4\",\"5\",\"6\",\"7\",\"8\",\"9\",\"10\",\"J\",\"Q\",\"K\"]"
      ],
      "metadata": {
        "id": "OKx_j7UbDW_l"
      },
      "execution_count": 27,
      "outputs": []
    },
    {
      "cell_type": "code",
      "source": [
        "class Deste:\n",
        "\n",
        "  def __init__(self):\n",
        "    tipler = [\"karo\",\"sinek\",\"kupa\",\"maç\"]\n",
        "    degerler = [\"A\",\"2\",\"3\",\"4\",\"5\",\"6\",\"7\",\"8\",\"9\",\"10\",\"J\",\"Q\",\"K\"]\n",
        "\n",
        "    self.kartlar = [(k,i)for k in tipler for i in degerler]\n",
        "\n",
        "    #for i in tipler:\n",
        "      #for k in degerler:\n",
        "        #self.kartlar.append(Card(i,k))\n",
        "    print(self.kartlar)\n",
        "\n"
      ],
      "metadata": {
        "id": "R5DKPpppDr95"
      },
      "execution_count": 39,
      "outputs": []
    },
    {
      "cell_type": "code",
      "source": [
        "Deste()"
      ],
      "metadata": {
        "colab": {
          "base_uri": "https://localhost:8080/"
        },
        "id": "luckmsfEEEbA",
        "outputId": "d6b0f253-a6bd-45cf-ce14-8e8ea8458bb4"
      },
      "execution_count": 40,
      "outputs": [
        {
          "output_type": "stream",
          "name": "stdout",
          "text": [
            "[('karo', 'A'), ('karo', '2'), ('karo', '3'), ('karo', '4'), ('karo', '5'), ('karo', '6'), ('karo', '7'), ('karo', '8'), ('karo', '9'), ('karo', '10'), ('karo', 'J'), ('karo', 'Q'), ('karo', 'K'), ('sinek', 'A'), ('sinek', '2'), ('sinek', '3'), ('sinek', '4'), ('sinek', '5'), ('sinek', '6'), ('sinek', '7'), ('sinek', '8'), ('sinek', '9'), ('sinek', '10'), ('sinek', 'J'), ('sinek', 'Q'), ('sinek', 'K'), ('kupa', 'A'), ('kupa', '2'), ('kupa', '3'), ('kupa', '4'), ('kupa', '5'), ('kupa', '6'), ('kupa', '7'), ('kupa', '8'), ('kupa', '9'), ('kupa', '10'), ('kupa', 'J'), ('kupa', 'Q'), ('kupa', 'K'), ('maç', 'A'), ('maç', '2'), ('maç', '3'), ('maç', '4'), ('maç', '5'), ('maç', '6'), ('maç', '7'), ('maç', '8'), ('maç', '9'), ('maç', '10'), ('maç', 'J'), ('maç', 'Q'), ('maç', 'K')]\n"
          ]
        },
        {
          "output_type": "execute_result",
          "data": {
            "text/plain": [
              "<__main__.Deste at 0x7ff505886b30>"
            ]
          },
          "metadata": {},
          "execution_count": 40
        }
      ]
    },
    {
      "cell_type": "code",
      "source": [
        "class Deste2:\n",
        "\n",
        "    tipler = [\"karo\",\"sinek\",\"kupa\",\"maç\"]\n",
        "    degerler = [\"A\",\"2\",\"3\",\"4\",\"5\",\"6\",\"7\",\"8\",\"9\",\"10\",\"J\",\"Q\",\"K\"]\n",
        "\n",
        "    def __init__(self):\n",
        "      self.kartlar = [(k,i) for k in Deste.tipler for i in Deste.degerler]\n",
        "\n",
        "    \n",
        "    def kalan(self):\n",
        "      return len(self.kartlar)\n",
        "\n",
        "    def karma(self):\n",
        "      if len(self.kartlar)<52:\n",
        "        raise ValueError(\"oyun başlamadan kartları karıştırabilirsiniz.\")\n",
        "\n",
        "      shuffle(self.kartlar) "
      ],
      "metadata": {
        "id": "2VBBcXfJEK2z"
      },
      "execution_count": 64,
      "outputs": []
    },
    {
      "cell_type": "code",
      "source": [
        "deste1 = Deste2()"
      ],
      "metadata": {
        "id": "Is9uhrOXH1se"
      },
      "execution_count": 59,
      "outputs": []
    },
    {
      "cell_type": "code",
      "source": [
        "deste2 = Deste2()"
      ],
      "metadata": {
        "colab": {
          "base_uri": "https://localhost:8080/"
        },
        "id": "PADfstwLJWKK",
        "outputId": "2334ec2e-c411-4e4f-df2a-b038710358fe"
      },
      "execution_count": 46,
      "outputs": [
        {
          "output_type": "stream",
          "name": "stdout",
          "text": [
            "[('karo', 'A'), ('karo', '2'), ('karo', '3'), ('karo', '4'), ('karo', '5'), ('karo', '6'), ('karo', '7'), ('karo', '8'), ('karo', '9'), ('karo', '10'), ('karo', 'J'), ('karo', 'Q'), ('karo', 'K'), ('sinek', 'A'), ('sinek', '2'), ('sinek', '3'), ('sinek', '4'), ('sinek', '5'), ('sinek', '6'), ('sinek', '7'), ('sinek', '8'), ('sinek', '9'), ('sinek', '10'), ('sinek', 'J'), ('sinek', 'Q'), ('sinek', 'K'), ('kupa', 'A'), ('kupa', '2'), ('kupa', '3'), ('kupa', '4'), ('kupa', '5'), ('kupa', '6'), ('kupa', '7'), ('kupa', '8'), ('kupa', '9'), ('kupa', '10'), ('kupa', 'J'), ('kupa', 'Q'), ('kupa', 'K'), ('maç', 'A'), ('maç', '2'), ('maç', '3'), ('maç', '4'), ('maç', '5'), ('maç', '6'), ('maç', '7'), ('maç', '8'), ('maç', '9'), ('maç', '10'), ('maç', 'J'), ('maç', 'Q'), ('maç', 'K')]\n"
          ]
        }
      ]
    },
    {
      "cell_type": "code",
      "source": [
        "deste1.kalan()"
      ],
      "metadata": {
        "colab": {
          "base_uri": "https://localhost:8080/"
        },
        "id": "P11Nr3R8JWzl",
        "outputId": "2da43f46-0391-4a40-841f-ab4be045a1fc"
      },
      "execution_count": 52,
      "outputs": [
        {
          "output_type": "execute_result",
          "data": {
            "text/plain": [
              "52"
            ]
          },
          "metadata": {},
          "execution_count": 52
        }
      ]
    },
    {
      "cell_type": "code",
      "source": [
        "from random import shuffle"
      ],
      "metadata": {
        "id": "UTk3cL-tKvmv"
      },
      "execution_count": 53,
      "outputs": []
    },
    {
      "cell_type": "code",
      "source": [
        "deste1.karma()"
      ],
      "metadata": {
        "id": "0acuhcaXLToW"
      },
      "execution_count": 60,
      "outputs": []
    },
    {
      "cell_type": "code",
      "source": [
        "print(deste1)"
      ],
      "metadata": {
        "colab": {
          "base_uri": "https://localhost:8080/"
        },
        "id": "T8i5P_GwLiHs",
        "outputId": "4c49dd88-417d-42f4-e995-dfb9801368d2"
      },
      "execution_count": 62,
      "outputs": [
        {
          "output_type": "stream",
          "name": "stdout",
          "text": [
            "<__main__.Deste2 object at 0x7ff505887370>\n"
          ]
        }
      ]
    },
    {
      "cell_type": "code",
      "source": [
        "deste1.kartlar"
      ],
      "metadata": {
        "colab": {
          "base_uri": "https://localhost:8080/"
        },
        "id": "NGmozHnDLrb6",
        "outputId": "7cd94a88-88bc-4163-faaf-b398349853bc"
      },
      "execution_count": 63,
      "outputs": [
        {
          "output_type": "execute_result",
          "data": {
            "text/plain": [
              "[('sinek', '7'),\n",
              " ('maç', '2'),\n",
              " ('maç', '6'),\n",
              " ('karo', 'Q'),\n",
              " ('kupa', '7'),\n",
              " ('maç', 'K'),\n",
              " ('sinek', 'J'),\n",
              " ('kupa', 'K'),\n",
              " ('sinek', '10'),\n",
              " ('kupa', '3'),\n",
              " ('kupa', 'J'),\n",
              " ('maç', '10'),\n",
              " ('karo', 'K'),\n",
              " ('kupa', '4'),\n",
              " ('maç', '9'),\n",
              " ('sinek', '3'),\n",
              " ('sinek', '5'),\n",
              " ('maç', '5'),\n",
              " ('sinek', '2'),\n",
              " ('maç', '8'),\n",
              " ('karo', '4'),\n",
              " ('kupa', '10'),\n",
              " ('karo', '8'),\n",
              " ('kupa', '8'),\n",
              " ('maç', 'J'),\n",
              " ('sinek', '9'),\n",
              " ('kupa', 'Q'),\n",
              " ('karo', '2'),\n",
              " ('sinek', '8'),\n",
              " ('sinek', '4'),\n",
              " ('maç', '3'),\n",
              " ('karo', '7'),\n",
              " ('karo', '6'),\n",
              " ('kupa', '6'),\n",
              " ('karo', 'J'),\n",
              " ('sinek', 'Q'),\n",
              " ('maç', '4'),\n",
              " ('karo', '10'),\n",
              " ('maç', '7'),\n",
              " ('karo', 'A'),\n",
              " ('kupa', '5'),\n",
              " ('sinek', 'K'),\n",
              " ('kupa', '9'),\n",
              " ('maç', 'Q'),\n",
              " ('sinek', '6'),\n",
              " ('kupa', '2'),\n",
              " ('karo', '9'),\n",
              " ('karo', '3'),\n",
              " ('sinek', 'A'),\n",
              " ('maç', 'A'),\n",
              " ('karo', '5'),\n",
              " ('kupa', 'A')]"
            ]
          },
          "metadata": {},
          "execution_count": 63
        }
      ]
    },
    {
      "cell_type": "code",
      "source": [
        "class Gel:\n",
        "\n",
        "  def __init__(self,name,surname,age):\n",
        "\n",
        "    self.name = name\n",
        "    self.surname = surname \n",
        "    self.age = age \n",
        "    print(\"nesne oluşturuldu\")\n",
        "  \n",
        "  def int(self):\n",
        "    return f\"{self.name} {self.surname} {self.age}\"\n",
        "\n",
        "class Teacher(Gel):\n",
        "  pass\n",
        "\n",
        "class School(Teacher):\n",
        "  pass\n",
        "\n",
        "p1 = School(\"ali\",\"acar\",22)\n",
        "p1.int()"
      ],
      "metadata": {
        "colab": {
          "base_uri": "https://localhost:8080/",
          "height": 53
        },
        "id": "iEEza1PqL5v-",
        "outputId": "c23ce8db-91f6-43fa-898f-b6203b55cf02"
      },
      "execution_count": 69,
      "outputs": [
        {
          "output_type": "stream",
          "name": "stdout",
          "text": [
            "nesne oluşturuldu\n"
          ]
        },
        {
          "output_type": "execute_result",
          "data": {
            "text/plain": [
              "'ali acar 22'"
            ],
            "application/vnd.google.colaboratory.intrinsic+json": {
              "type": "string"
            }
          },
          "metadata": {},
          "execution_count": 69
        }
      ]
    },
    {
      "cell_type": "code",
      "source": [
        "from scipy import stats "
      ],
      "metadata": {
        "id": "r5xS8F5-XPT9"
      },
      "execution_count": 70,
      "outputs": []
    },
    {
      "cell_type": "code",
      "source": [
        "stats.norm.ppf(1-0.05)"
      ],
      "metadata": {
        "colab": {
          "base_uri": "https://localhost:8080/"
        },
        "id": "G2bZTkUH9-hc",
        "outputId": "a48658c6-6bea-4c2b-f96a-0040671a6626"
      },
      "execution_count": 72,
      "outputs": [
        {
          "output_type": "execute_result",
          "data": {
            "text/plain": [
              "1.6448536269514722"
            ]
          },
          "metadata": {},
          "execution_count": 72
        }
      ]
    },
    {
      "cell_type": "code",
      "source": [
        "z_test = 0.91 "
      ],
      "metadata": {
        "id": "IEvB8aMF-TFE"
      },
      "execution_count": 73,
      "outputs": []
    },
    {
      "cell_type": "code",
      "source": [
        "stats.norm.cdf(0.91)"
      ],
      "metadata": {
        "colab": {
          "base_uri": "https://localhost:8080/"
        },
        "id": "qVwgS716-X3k",
        "outputId": "90e588ef-2180-4da0-e55b-cee5e7f3e610"
      },
      "execution_count": 74,
      "outputs": [
        {
          "output_type": "execute_result",
          "data": {
            "text/plain": [
              "0.8185887451082028"
            ]
          },
          "metadata": {},
          "execution_count": 74
        }
      ]
    },
    {
      "cell_type": "code",
      "source": [
        "1-stats.norm.cdf(0.91)"
      ],
      "metadata": {
        "colab": {
          "base_uri": "https://localhost:8080/"
        },
        "id": "CpK_ZNt7-gwn",
        "outputId": "8b2882c6-ec8f-43fa-fda8-aa797636be78"
      },
      "execution_count": 75,
      "outputs": [
        {
          "output_type": "execute_result",
          "data": {
            "text/plain": [
              "0.1814112548917972"
            ]
          },
          "metadata": {},
          "execution_count": 75
        }
      ]
    },
    {
      "cell_type": "code",
      "source": [
        "stats.norm.ppf(1-(0.05/2))"
      ],
      "metadata": {
        "colab": {
          "base_uri": "https://localhost:8080/"
        },
        "id": "BHIak0fn-jZl",
        "outputId": "f77eef71-0c0c-44a8-d11e-6c247773be6c"
      },
      "execution_count": 76,
      "outputs": [
        {
          "output_type": "execute_result",
          "data": {
            "text/plain": [
              "1.959963984540054"
            ]
          },
          "metadata": {},
          "execution_count": 76
        }
      ]
    },
    {
      "cell_type": "code",
      "source": [
        "stats.norm.cdf(1.85)"
      ],
      "metadata": {
        "colab": {
          "base_uri": "https://localhost:8080/"
        },
        "id": "uqsjKj6n-1yY",
        "outputId": "55ce2089-8787-4aa8-afaf-42b246164478"
      },
      "execution_count": 77,
      "outputs": [
        {
          "output_type": "execute_result",
          "data": {
            "text/plain": [
              "0.9678432252043863"
            ]
          },
          "metadata": {},
          "execution_count": 77
        }
      ]
    },
    {
      "cell_type": "code",
      "source": [
        "(1-0.9678432252043863)*2"
      ],
      "metadata": {
        "colab": {
          "base_uri": "https://localhost:8080/"
        },
        "id": "UeOKdfRF-8sS",
        "outputId": "a0f20db8-8455-43c6-deea-aec1a435300b"
      },
      "execution_count": 79,
      "outputs": [
        {
          "output_type": "execute_result",
          "data": {
            "text/plain": [
              "0.06431354959122748"
            ]
          },
          "metadata": {},
          "execution_count": 79
        }
      ]
    },
    {
      "cell_type": "code",
      "source": [
        "stats.t.ppf(1-0.05,19)"
      ],
      "metadata": {
        "colab": {
          "base_uri": "https://localhost:8080/"
        },
        "id": "wPTnqQTb--iS",
        "outputId": "d56a83a2-5bb3-4d67-a8e9-1a027e7785ce"
      },
      "execution_count": 81,
      "outputs": [
        {
          "output_type": "execute_result",
          "data": {
            "text/plain": [
              "1.729132811521367"
            ]
          },
          "metadata": {},
          "execution_count": 81
        }
      ]
    },
    {
      "cell_type": "code",
      "source": [
        "stats.t.ppf(1-(0.01/2),9)"
      ],
      "metadata": {
        "colab": {
          "base_uri": "https://localhost:8080/"
        },
        "id": "jc13v9lZ_axX",
        "outputId": "8ef63d51-cb45-4b90-f339-ba041969f8be"
      },
      "execution_count": 83,
      "outputs": [
        {
          "output_type": "execute_result",
          "data": {
            "text/plain": [
              "3.2498355440153697"
            ]
          },
          "metadata": {},
          "execution_count": 83
        }
      ]
    },
    {
      "cell_type": "code",
      "source": [],
      "metadata": {
        "id": "TNFc7H9kEZyN"
      },
      "execution_count": null,
      "outputs": []
    },
    {
      "cell_type": "markdown",
      "source": [
        "FINDING CRITICAL VALUES "
      ],
      "metadata": {
        "id": "AfgmL5b3EbpX"
      }
    },
    {
      "cell_type": "code",
      "source": [
        "stats.norm.ppf(1-0.01)"
      ],
      "metadata": {
        "colab": {
          "base_uri": "https://localhost:8080/"
        },
        "id": "m_CCV3Zj_70k",
        "outputId": "6f5f21f9-31c1-4ee8-b18d-0999d1029ace"
      },
      "execution_count": 84,
      "outputs": [
        {
          "output_type": "execute_result",
          "data": {
            "text/plain": [
              "2.3263478740408408"
            ]
          },
          "metadata": {},
          "execution_count": 84
        }
      ]
    },
    {
      "cell_type": "code",
      "source": [
        "class Person:\n",
        "\n",
        "  def __init__(self,name,surname,age):\n",
        "    self.name = name \n",
        "    self.surname = surname \n",
        "    self.age = age \n",
        "    print(\"person nesnesi oluşturuldu\")\n",
        "\n",
        "  def intro(self):\n",
        "    return f\"{self.name} {self.surname} {self.age}\"\n",
        "\n",
        "class Student(Person):\n",
        "\n",
        "  def __init__(self,name,surname,age,number):\n",
        "    Person.__init__(self,name,surname,age)\n",
        "    self.number = number  \n",
        "\n",
        "  def intro(self):\n",
        "    return f\"{self.number}\"\n",
        "\n",
        "\n",
        "class Teacher(Person):\n",
        "\n",
        "  def __init__(self,name,surname,age,branch):\n",
        "     Person.__init__(self,name,surname,age)\n",
        "     self.branch = branch \n",
        "\n",
        "\n",
        "\n",
        "\n",
        "p1 = Person(\"halim\",\"acar\",22)\n",
        "s1 = Student(\"ali\",\"acar\",23,2626)\n",
        "t1 = Teacher(\"mehmet\",\"acar\",12,\"Englisch\")\n",
        "\n",
        "p1.intro()\n",
        "s1.intro()"
      ],
      "metadata": {
        "colab": {
          "base_uri": "https://localhost:8080/",
          "height": 87
        },
        "id": "DRbhK7AKEYFp",
        "outputId": "b79bba70-9aa3-4b25-dc6b-65963b0a2803"
      },
      "execution_count": 11,
      "outputs": [
        {
          "output_type": "stream",
          "name": "stdout",
          "text": [
            "person nesnesi oluşturuldu\n",
            "person nesnesi oluşturuldu\n",
            "person nesnesi oluşturuldu\n"
          ]
        },
        {
          "output_type": "execute_result",
          "data": {
            "text/plain": [
              "'2626'"
            ],
            "application/vnd.google.colaboratory.intrinsic+json": {
              "type": "string"
            }
          },
          "metadata": {},
          "execution_count": 11
        }
      ]
    },
    {
      "cell_type": "code",
      "source": [
        "class User:\n",
        "\n",
        "  active_users = 0 \n",
        "\n",
        "  @classmethod\n",
        "  def display_active(cls):\n",
        "    return f\"şu anda {cls.active_users} aktif kişi var.\"\n",
        "\n",
        "  def __init__(self,name,surname):\n",
        "    self.name = name \n",
        "    self.surname = surname \n",
        "    self.active_users+=1 \n",
        "    print(\"nesne oluştu\")\n",
        "\n",
        "  def full(self):\n",
        "    return f\"{self.name} {self.surname}\"\n",
        "\n",
        "class Moderator(User):\n",
        "\n",
        "  def __init__(self,name,surname,community):\n",
        "    User.__init__(self,name,surname)\n",
        "    self.community = community \n",
        "\n",
        "\n",
        "print(User.display_active())\n",
        "u2 = User(\"halim\",\"acar\")\n",
        "m2 = Moderator(\"mehmet\",\"acar\",\"programming\")\n",
        "print(User.display_active())\n",
        "\n",
        "\n"
      ],
      "metadata": {
        "colab": {
          "base_uri": "https://localhost:8080/"
        },
        "id": "jB-ui0udESWO",
        "outputId": "87f1bc1f-71ba-4f7b-b5fe-c42da31be07b"
      },
      "execution_count": 18,
      "outputs": [
        {
          "output_type": "stream",
          "name": "stdout",
          "text": [
            "şu anda 0 aktif kişi var.\n",
            "nesne oluştu\n",
            "nesne oluştu\n",
            "şu anda 0 aktif kişi var.\n"
          ]
        }
      ]
    },
    {
      "cell_type": "code",
      "source": [
        "class User:\n",
        "    active_users = 0\n",
        "\n",
        "    @classmethod\n",
        "    def display_active(cls):\n",
        "        return f\"şu anda {cls.active_users} aktif kişi var.\"\n",
        "\n",
        "    def __init__(self, name, surname):\n",
        "        self.name = name\n",
        "        self.surname = surname\n",
        "        User.active_users += 1  # Increment class variable directly\n",
        "        print(\"nesne oluştu\")\n",
        "\n",
        "    def full(self):\n",
        "        return f\"{self.name} {self.surname}\"\n",
        "\n",
        "class Moderator(User):\n",
        "    def __init__(self, name, surname, community):\n",
        "        super().__init__(name, surname)  #class User:\n",
        "    active_users = 0 \n",
        "\n",
        "    @classmethod\n",
        "    def display_active(cls):\n",
        "        return f\"şu anda {cls.active_users} aktif kişi var.\"\n",
        "\n",
        "    def __init__(self, name, surname):\n",
        "        self.name = name \n",
        "        self.surname = surname \n",
        "        User.active_users += 1 \n",
        "        print(\"nesne oluştu\")\n",
        "\n",
        "    def full(self):\n",
        "        return f\"{self.name} {self.surname}\"\n",
        "\n",
        "class Moderator(User):\n",
        "    def __init__(self, name, surname, community):\n",
        "        User.__init__(self, name, surname)\n",
        "        self.community = community \n",
        "\n",
        "print(User.display_active())\n",
        "u2 = User(\"halim\",\"acar\")\n",
        "m2 = Moderator(\"mehmet\",\"acar\",\"programming\")\n",
        "print(User.display_active())\n",
        " Use super() to call parent class's __init__ method\n",
        "        self.community = community\n",
        "\n",
        "print(User.display_active())\n",
        "u1 = User(\"halim\", \"acar\")\n",
        "m1 = Moderator(\"mehmet\", \"acar\", \"programming\")\n",
        "\n",
        "print(User.display_active())  # Output: şu anda 2 aktif kişi var.\n"
      ],
      "metadata": {
        "colab": {
          "base_uri": "https://localhost:8080/",
          "height": 131
        },
        "id": "R23cfPPdQJ4d",
        "outputId": "1797092e-863f-4b76-9120-b336fbdaf144"
      },
      "execution_count": 21,
      "outputs": [
        {
          "output_type": "error",
          "ename": "IndentationError",
          "evalue": "ignored",
          "traceback": [
            "\u001b[0;36m  File \u001b[0;32m\"<ipython-input-21-6a1f18428a2b>\"\u001b[0;36m, line \u001b[0;32m44\u001b[0m\n\u001b[0;31m    Use super() to call parent class's __init__ method\u001b[0m\n\u001b[0m    ^\u001b[0m\n\u001b[0;31mIndentationError\u001b[0m\u001b[0;31m:\u001b[0m unexpected indent\n"
          ]
        }
      ]
    },
    {
      "cell_type": "code",
      "source": [
        "class User:\n",
        "\n",
        "  active_users = 0 \n",
        "\n",
        "  @classmethod\n",
        "  def display_active(cls):\n",
        "    return f\"şu anda {cls.active_users} aktif kişi var.\"\n",
        "\n",
        "  def __init__(self,name,surname):\n",
        "    self.name = name \n",
        "    self.surname = surname \n",
        "    self.active_users+=1 \n",
        "    print(\"nesne oluştu\")\n",
        "\n",
        "  def full(self):\n",
        "    return f\"{self.name} {self.surname}\"\n",
        "\n",
        "class Moderator(User):\n",
        "\n",
        "  def __init__(self,name,surname,community):\n",
        "    User.__init__(self,name,surname)\n",
        "    self.community = community \n",
        "\n",
        "\n",
        "print(User.display_active())\n",
        "u2 = User(\"halim\",\"acar\")\n",
        "m2 = Moderator(\"mehmet\",\"acar\",\"programming\")\n",
        "\n",
        "print(User.display_active())"
      ],
      "metadata": {
        "colab": {
          "base_uri": "https://localhost:8080/"
        },
        "id": "9BnB6I_XSBhS",
        "outputId": "1106acfa-1560-4791-a423-1c71677215aa"
      },
      "execution_count": 20,
      "outputs": [
        {
          "output_type": "stream",
          "name": "stdout",
          "text": [
            "şu anda 0 aktif kişi var.\n",
            "nesne oluştu\n",
            "nesne oluştu\n",
            "şu anda 0 aktif kişi var.\n"
          ]
        }
      ]
    },
    {
      "cell_type": "code",
      "source": [
        "class User:\n",
        "    active_users = 0 \n",
        "\n",
        "    @classmethod\n",
        "    def display_active(cls):\n",
        "        return f\"şu anda {cls.active_users} aktif kişi var.\"\n",
        "\n",
        "    def __init__(self, name, surname):\n",
        "        self.name = name \n",
        "        self.surname = surname \n",
        "        User.active_users += 1 \n",
        "        print(\"nesne oluştu\")\n",
        "\n",
        "    def full(self):\n",
        "        return f\"{self.name} {self.surname}\"\n",
        "\n",
        "class Moderator(User):\n",
        "    active_moderator = 0 \n",
        "\n",
        "    @classmethod\n",
        "\n",
        "    def active_mode(cls):\n",
        "      return f\"{cls.active_moderator} kadar aktif moderator var.\"\n",
        "\n",
        "    def __init__(self, name, surname, community):\n",
        "        User.__init__(self, name, surname)\n",
        "        self.community = community  \n",
        "        Moderator.active_moderator += 1\n",
        "\n",
        "print(User.display_active())\n",
        "print(Moderator.active_mode())\n",
        "u2 = User(\"halim\",\"acar\")\n",
        "m2 = Moderator(\"mehmet\",\"acar\",\"programming\")\n",
        "print(User.display_active())\n",
        "print(Moderator.active_mode())"
      ],
      "metadata": {
        "colab": {
          "base_uri": "https://localhost:8080/"
        },
        "id": "nr1iY1bCSbjw",
        "outputId": "2ad6d85d-27aa-490b-fb5a-e9b35107c630"
      },
      "execution_count": 25,
      "outputs": [
        {
          "output_type": "stream",
          "name": "stdout",
          "text": [
            "şu anda 0 aktif kişi var.\n",
            "0 kadar aktif moderator var.\n",
            "nesne oluştu\n",
            "nesne oluştu\n",
            "şu anda 2 aktif kişi var.\n",
            "1 kadar aktif moderator var.\n"
          ]
        }
      ]
    },
    {
      "cell_type": "code",
      "source": [
        "from scipy import stats "
      ],
      "metadata": {
        "id": "trLjdc0RS4M4"
      },
      "execution_count": 7,
      "outputs": []
    },
    {
      "cell_type": "code",
      "source": [
        "stats.t.cdf(2.65,df=20)"
      ],
      "metadata": {
        "colab": {
          "base_uri": "https://localhost:8080/"
        },
        "id": "aQLPE7pwkSE6",
        "outputId": "6f94d698-c0c0-47bb-f0f9-aa105d49e827"
      },
      "execution_count": 28,
      "outputs": [
        {
          "output_type": "execute_result",
          "data": {
            "text/plain": [
              "0.9923168285492246"
            ]
          },
          "metadata": {},
          "execution_count": 28
        }
      ]
    },
    {
      "cell_type": "code",
      "source": [
        "1-stats.t.cdf(2.65,df=20)"
      ],
      "metadata": {
        "colab": {
          "base_uri": "https://localhost:8080/"
        },
        "id": "Py6lphF8kVnD",
        "outputId": "fd5421bb-6793-4b02-ec05-5a3acd7dc011"
      },
      "execution_count": 29,
      "outputs": [
        {
          "output_type": "execute_result",
          "data": {
            "text/plain": [
              "0.00768317145077535"
            ]
          },
          "metadata": {},
          "execution_count": 29
        }
      ]
    },
    {
      "cell_type": "code",
      "source": [
        "x = [4000,0,5000,8000,10000,10000,15000,20000]"
      ],
      "metadata": {
        "id": "xP_uGJa7kdth"
      },
      "execution_count": 30,
      "outputs": []
    },
    {
      "cell_type": "code",
      "source": [
        "statistics.stdev(x)"
      ],
      "metadata": {
        "colab": {
          "base_uri": "https://localhost:8080/"
        },
        "id": "xtds0ll7nht7",
        "outputId": "8c2c552e-d28d-4621-a0df-fd7817cc4a49"
      },
      "execution_count": 35,
      "outputs": [
        {
          "output_type": "execute_result",
          "data": {
            "text/plain": [
              "6347.102826149446"
            ]
          },
          "metadata": {},
          "execution_count": 35
        }
      ]
    },
    {
      "cell_type": "code",
      "source": [
        "import statistics"
      ],
      "metadata": {
        "id": "mN5NLGgTnji0"
      },
      "execution_count": 33,
      "outputs": []
    },
    {
      "cell_type": "code",
      "source": [
        "6347.102826149446*6347.102826149446"
      ],
      "metadata": {
        "colab": {
          "base_uri": "https://localhost:8080/"
        },
        "id": "k6Y_j_UanmMl",
        "outputId": "27cc3b74-cdfb-4433-8eab-45b76e6542c2"
      },
      "execution_count": 36,
      "outputs": [
        {
          "output_type": "execute_result",
          "data": {
            "text/plain": [
              "40285714.28571428"
            ]
          },
          "metadata": {},
          "execution_count": 36
        }
      ]
    },
    {
      "cell_type": "code",
      "source": [
        "statistics.variance(x)"
      ],
      "metadata": {
        "colab": {
          "base_uri": "https://localhost:8080/"
        },
        "id": "OIKrllSTnxYU",
        "outputId": "984753a2-b61f-490e-ba65-27599bbe5bc8"
      },
      "execution_count": 37,
      "outputs": [
        {
          "output_type": "execute_result",
          "data": {
            "text/plain": [
              "40285714.28571428"
            ]
          },
          "metadata": {},
          "execution_count": 37
        }
      ]
    },
    {
      "cell_type": "code",
      "source": [
        "0.05/2"
      ],
      "metadata": {
        "colab": {
          "base_uri": "https://localhost:8080/"
        },
        "id": "859LmauOn0ug",
        "outputId": "2a1c5a62-0052-4f84-d84d-9385e154ce51"
      },
      "execution_count": 1,
      "outputs": [
        {
          "output_type": "execute_result",
          "data": {
            "text/plain": [
              "0.025"
            ]
          },
          "metadata": {},
          "execution_count": 1
        }
      ]
    },
    {
      "cell_type": "code",
      "source": [
        "1-0.025"
      ],
      "metadata": {
        "colab": {
          "base_uri": "https://localhost:8080/"
        },
        "id": "U9rqg_uvoOYs",
        "outputId": "f4ac9a91-09e8-4d56-a8ac-4fe621628b77"
      },
      "execution_count": 2,
      "outputs": [
        {
          "output_type": "execute_result",
          "data": {
            "text/plain": [
              "0.975"
            ]
          },
          "metadata": {},
          "execution_count": 2
        }
      ]
    },
    {
      "cell_type": "code",
      "source": [
        "0.01/2"
      ],
      "metadata": {
        "colab": {
          "base_uri": "https://localhost:8080/"
        },
        "id": "t43mfzMyoRKZ",
        "outputId": "874621b7-b955-434e-f6ae-758e7a55365d"
      },
      "execution_count": 3,
      "outputs": [
        {
          "output_type": "execute_result",
          "data": {
            "text/plain": [
              "0.005"
            ]
          },
          "metadata": {},
          "execution_count": 3
        }
      ]
    },
    {
      "cell_type": "code",
      "source": [
        "1-0.005"
      ],
      "metadata": {
        "colab": {
          "base_uri": "https://localhost:8080/"
        },
        "id": "1FXq2CNrod3T",
        "outputId": "f0ad295b-71da-4f54-d39f-564bdfba3687"
      },
      "execution_count": 4,
      "outputs": [
        {
          "output_type": "execute_result",
          "data": {
            "text/plain": [
              "0.995"
            ]
          },
          "metadata": {},
          "execution_count": 4
        }
      ]
    },
    {
      "cell_type": "code",
      "source": [
        "stats.norm.interval(0.90,loc=14.5,scale=2/5)"
      ],
      "metadata": {
        "colab": {
          "base_uri": "https://localhost:8080/"
        },
        "id": "H8RLuCs5oflO",
        "outputId": "cc5c05a1-3c94-4a35-8561-4e32d1149cbf"
      },
      "execution_count": 10,
      "outputs": [
        {
          "output_type": "execute_result",
          "data": {
            "text/plain": [
              "(13.842058549219411, 15.157941450780589)"
            ]
          },
          "metadata": {},
          "execution_count": 10
        }
      ]
    },
    {
      "cell_type": "code",
      "source": [
        "try:\n",
        "    num = int(input(\"Enter a number: \"))\n",
        "    print(\"Your number is:\", num)\n",
        "except ValueError:\n",
        "    print(\"That's not a valid number!\")\n"
      ],
      "metadata": {
        "colab": {
          "base_uri": "https://localhost:8080/"
        },
        "id": "XP9w_QX2o5wx",
        "outputId": "41bcdcd5-6fc1-40c5-d09d-70a6730c4d1f"
      },
      "execution_count": 12,
      "outputs": [
        {
          "output_type": "stream",
          "name": "stdout",
          "text": [
            "Enter a number: p\n",
            "That's not a valid number!\n"
          ]
        }
      ]
    },
    {
      "cell_type": "code",
      "source": [
        "try:\n",
        "  x = int(input(\"gir: \"))\n",
        "  num = 10/x\n",
        "  #if num!=0:\n",
        "    #print(f\"the result is {num}\")\n",
        "except:\n",
        "  print(\"divisor can not be zero\")"
      ],
      "metadata": {
        "colab": {
          "base_uri": "https://localhost:8080/"
        },
        "id": "XXeVIxl2X0Br",
        "outputId": "92778f91-352c-4a9c-b709-3ed5af2f225a"
      },
      "execution_count": 17,
      "outputs": [
        {
          "output_type": "stream",
          "name": "stdout",
          "text": [
            "gir: 0\n",
            "divisor can not be zero\n"
          ]
        }
      ]
    },
    {
      "cell_type": "code",
      "source": [
        "try:\n",
        "    result = 10 / 0\n",
        "except ZeroDivisionError:\n",
        "    print(\"Error: division by zero\")"
      ],
      "metadata": {
        "colab": {
          "base_uri": "https://localhost:8080/"
        },
        "id": "uBQ5eszzY6Pj",
        "outputId": "cfb94c1f-1a26-4980-c7d3-b2b3c4119b3b"
      },
      "execution_count": 13,
      "outputs": [
        {
          "output_type": "stream",
          "name": "stdout",
          "text": [
            "Error: division by zero\n"
          ]
        }
      ]
    },
    {
      "cell_type": "code",
      "source": [
        "from scipy import stats"
      ],
      "metadata": {
        "id": "2gfXg3sfY-fs"
      },
      "execution_count": 1,
      "outputs": []
    },
    {
      "cell_type": "code",
      "source": [
        "stats.t.cdf(4.01,df=7)"
      ],
      "metadata": {
        "colab": {
          "base_uri": "https://localhost:8080/"
        },
        "id": "3N9RdQB3BdTD",
        "outputId": "446a241b-4adc-4f16-eb43-c22b705f818a"
      },
      "execution_count": 2,
      "outputs": [
        {
          "output_type": "execute_result",
          "data": {
            "text/plain": [
              "0.9974378464495013"
            ]
          },
          "metadata": {},
          "execution_count": 2
        }
      ]
    },
    {
      "cell_type": "code",
      "source": [
        "1-0.9974378464495013"
      ],
      "metadata": {
        "colab": {
          "base_uri": "https://localhost:8080/"
        },
        "id": "sssyHjqNBggo",
        "outputId": "1d77ecb0-0f7d-4f59-ebb6-6425574c0edb"
      },
      "execution_count": 3,
      "outputs": [
        {
          "output_type": "execute_result",
          "data": {
            "text/plain": [
              "0.0025621535504987136"
            ]
          },
          "metadata": {},
          "execution_count": 3
        }
      ]
    },
    {
      "cell_type": "code",
      "source": [
        "2*0.0025621535504987136\n",
        "import numpy as np"
      ],
      "metadata": {
        "id": "HfZFhcpbBlIS"
      },
      "execution_count": 8,
      "outputs": []
    },
    {
      "cell_type": "code",
      "source": [
        "x_bar = 10.5\n",
        "n = 40 \n",
        "alpha = 0.05 "
      ],
      "metadata": {
        "id": "5TfpebRxBmzP"
      },
      "execution_count": 5,
      "outputs": []
    },
    {
      "cell_type": "code",
      "source": [
        "#H0: m = 10 \n",
        "#H1: m < 10 "
      ],
      "metadata": {
        "id": "81aIA5Z2DRb6"
      },
      "execution_count": 6,
      "outputs": []
    },
    {
      "cell_type": "code",
      "source": [
        "stats.norm.ppf(0.05)"
      ],
      "metadata": {
        "colab": {
          "base_uri": "https://localhost:8080/"
        },
        "id": "TqEpqx5lDnvk",
        "outputId": "4ef9e49f-219d-4c35-cd0d-6330d5e41b5c"
      },
      "execution_count": 7,
      "outputs": [
        {
          "output_type": "execute_result",
          "data": {
            "text/plain": [
              "-1.6448536269514729"
            ]
          },
          "metadata": {},
          "execution_count": 7
        }
      ]
    },
    {
      "cell_type": "code",
      "source": [
        "z_test =(x_bar-10)/(1.5/np.sqrt(n))  \n",
        "z_test"
      ],
      "metadata": {
        "colab": {
          "base_uri": "https://localhost:8080/"
        },
        "id": "b48-23piDwN-",
        "outputId": "45ef5bfb-d0f7-4edb-b43a-28fd9665c5f3"
      },
      "execution_count": 9,
      "outputs": [
        {
          "output_type": "execute_result",
          "data": {
            "text/plain": [
              "2.1081851067789197"
            ]
          },
          "metadata": {},
          "execution_count": 9
        }
      ]
    },
    {
      "cell_type": "code",
      "source": [
        "stats.norm.cdf(2.1081851067789197)"
      ],
      "metadata": {
        "colab": {
          "base_uri": "https://localhost:8080/"
        },
        "id": "HtlGr-heESP-",
        "outputId": "1f16a536-9a8f-4d5d-b804-d4d4a75328e9"
      },
      "execution_count": 10,
      "outputs": [
        {
          "output_type": "execute_result",
          "data": {
            "text/plain": [
              "0.9824925094901688"
            ]
          },
          "metadata": {},
          "execution_count": 10
        }
      ]
    },
    {
      "cell_type": "code",
      "source": [
        "1-0.9824925094901688"
      ],
      "metadata": {
        "colab": {
          "base_uri": "https://localhost:8080/"
        },
        "id": "W-kn7VdYEaCG",
        "outputId": "a46dc388-ccc5-4706-a0b6-a7a0e18abf33"
      },
      "execution_count": 11,
      "outputs": [
        {
          "output_type": "execute_result",
          "data": {
            "text/plain": [
              "0.017507490509831247"
            ]
          },
          "metadata": {},
          "execution_count": 11
        }
      ]
    },
    {
      "cell_type": "code",
      "source": [
        "#H0: m = 170 \n",
        "#H1: m < 170 \n",
        "\n",
        "n=400\n",
        "x_bar = 178 \n",
        "s = 65"
      ],
      "metadata": {
        "id": "bG38AjIyEcXF"
      },
      "execution_count": 13,
      "outputs": []
    },
    {
      "cell_type": "code",
      "source": [
        "z_test = (x_bar-170)/(s/np.sqrt(n))"
      ],
      "metadata": {
        "id": "603M0VuOJBtb"
      },
      "execution_count": 14,
      "outputs": []
    },
    {
      "cell_type": "code",
      "source": [
        "stats.norm.cdf(z_test)"
      ],
      "metadata": {
        "colab": {
          "base_uri": "https://localhost:8080/"
        },
        "id": "5vC798QCJKp5",
        "outputId": "6b08e83c-2dbf-4868-c3b2-63d409029c19"
      },
      "execution_count": 15,
      "outputs": [
        {
          "output_type": "execute_result",
          "data": {
            "text/plain": [
              "0.9930828718071455"
            ]
          },
          "metadata": {},
          "execution_count": 15
        }
      ]
    },
    {
      "cell_type": "code",
      "source": [
        "1-0.9930828718071455\n"
      ],
      "metadata": {
        "colab": {
          "base_uri": "https://localhost:8080/"
        },
        "id": "In_3-DHWJN6i",
        "outputId": "5ef4c8fd-6db0-4dbc-dab7-d368fc8cf7b2"
      },
      "execution_count": 16,
      "outputs": [
        {
          "output_type": "execute_result",
          "data": {
            "text/plain": [
              "0.006917128192854505"
            ]
          },
          "metadata": {},
          "execution_count": 16
        }
      ]
    },
    {
      "cell_type": "code",
      "source": [
        "z_kritik = stats.norm.ppf(1-0.05)\n",
        "z_kritik"
      ],
      "metadata": {
        "colab": {
          "base_uri": "https://localhost:8080/"
        },
        "id": "TD1yc8AhJRe8",
        "outputId": "d3cbffa8-68db-497f-99f4-adccc7a7b4a1"
      },
      "execution_count": 20,
      "outputs": [
        {
          "output_type": "execute_result",
          "data": {
            "text/plain": [
              "1.6448536269514722"
            ]
          },
          "metadata": {},
          "execution_count": 20
        }
      ]
    },
    {
      "cell_type": "code",
      "source": [
        "z_test"
      ],
      "metadata": {
        "colab": {
          "base_uri": "https://localhost:8080/"
        },
        "id": "xofkKZjcJjAD",
        "outputId": "82ed7aea-a9e5-40bc-e24f-c5135f335b4e"
      },
      "execution_count": 19,
      "outputs": [
        {
          "output_type": "execute_result",
          "data": {
            "text/plain": [
              "2.4615384615384617"
            ]
          },
          "metadata": {},
          "execution_count": 19
        }
      ]
    },
    {
      "cell_type": "code",
      "source": [
        "1-stats.norm.cdf(178,170,s/np.sqrt(n))"
      ],
      "metadata": {
        "colab": {
          "base_uri": "https://localhost:8080/"
        },
        "id": "2hZaMDE5JqN2",
        "outputId": "4d7da1c1-4ff9-4f39-ead6-9a9a6e535ecc"
      },
      "execution_count": 21,
      "outputs": [
        {
          "output_type": "execute_result",
          "data": {
            "text/plain": [
              "0.006917128192854505"
            ]
          },
          "metadata": {},
          "execution_count": 21
        }
      ]
    },
    {
      "cell_type": "code",
      "source": [
        "n=20\n",
        "x_bar = 108 \n",
        "s = 10\n",
        "alpha = 0.01 "
      ],
      "metadata": {
        "id": "zVGGkahhKQm9"
      },
      "execution_count": 22,
      "outputs": []
    },
    {
      "cell_type": "code",
      "source": [
        "#H0: m = 110 \n",
        "#H1: m > 110 "
      ],
      "metadata": {
        "id": "zbWQPICsMEGX"
      },
      "execution_count": 23,
      "outputs": []
    },
    {
      "cell_type": "code",
      "source": [
        "tkritik =stats.t.ppf(q=1-0.01, df = n-1)\n",
        "tkritik"
      ],
      "metadata": {
        "id": "4kvSBg29MOGF",
        "outputId": "407cd997-d936-4d97-9b66-82fc6ee2ed7e",
        "colab": {
          "base_uri": "https://localhost:8080/"
        }
      },
      "execution_count": 29,
      "outputs": [
        {
          "output_type": "execute_result",
          "data": {
            "text/plain": [
              "2.539483190622288"
            ]
          },
          "metadata": {},
          "execution_count": 29
        }
      ]
    },
    {
      "cell_type": "code",
      "source": [
        "t_test = (x_bar-110)/(s/np.sqrt(n))\n",
        "t_test "
      ],
      "metadata": {
        "id": "q6uGkcijMRhY",
        "outputId": "77bb9217-01bc-4cb4-992d-9732c008fc3c",
        "colab": {
          "base_uri": "https://localhost:8080/"
        }
      },
      "execution_count": 28,
      "outputs": [
        {
          "output_type": "execute_result",
          "data": {
            "text/plain": [
              "-0.8944271909999159"
            ]
          },
          "metadata": {},
          "execution_count": 28
        }
      ]
    },
    {
      "cell_type": "code",
      "source": [
        "stats.t.cdf(tkritik, df=n-1)"
      ],
      "metadata": {
        "id": "6YckpyGxMdxO",
        "outputId": "4d63ee02-888f-46b9-ba24-0fedcc46f440",
        "colab": {
          "base_uri": "https://localhost:8080/"
        }
      },
      "execution_count": 30,
      "outputs": [
        {
          "output_type": "execute_result",
          "data": {
            "text/plain": [
              "0.9899999999999646"
            ]
          },
          "metadata": {},
          "execution_count": 30
        }
      ]
    },
    {
      "cell_type": "code",
      "source": [
        "p_value = 1-0.9899999999999646\n"
      ],
      "metadata": {
        "id": "C1K9fHmNM5ae"
      },
      "execution_count": 32,
      "outputs": []
    },
    {
      "cell_type": "code",
      "source": [
        "p_value<alpha"
      ],
      "metadata": {
        "id": "5ZILyPs3M7tE",
        "outputId": "2ce51d4d-8ebe-40e9-ab6a-77f8cc03b9a1",
        "colab": {
          "base_uri": "https://localhost:8080/"
        }
      },
      "execution_count": 33,
      "outputs": [
        {
          "output_type": "execute_result",
          "data": {
            "text/plain": [
              "False"
            ]
          },
          "metadata": {},
          "execution_count": 33
        }
      ]
    },
    {
      "cell_type": "code",
      "source": [],
      "metadata": {
        "id": "U0H8NHO8NDf-"
      },
      "execution_count": null,
      "outputs": []
    }
  ]
}