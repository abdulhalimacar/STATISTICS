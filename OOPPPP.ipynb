{
  "nbformat": 4,
  "nbformat_minor": 0,
  "metadata": {
    "colab": {
      "provenance": []
    },
    "kernelspec": {
      "name": "python3",
      "display_name": "Python 3"
    },
    "language_info": {
      "name": "python"
    }
  },
  "cells": [
    {
      "cell_type": "code",
      "execution_count": 19,
      "metadata": {
        "colab": {
          "base_uri": "https://localhost:8080/"
        },
        "id": "Y81RCAQcdOYn",
        "outputId": "d893c297-2a54-4118-a91e-1fedef0e73a0"
      },
      "outputs": [
        {
          "output_type": "stream",
          "name": "stdout",
          "text": [
            "-10 bir asal sayı değildir\n",
            "-10 bir asal sayısıdır\n"
          ]
        }
      ],
      "source": [
        "class Prime:\n",
        "\n",
        "  sa = []\n",
        "\n",
        "  def __init__(self,say):\n",
        "    self.say = say \n",
        "  \n",
        "  def positive(self):\n",
        "    if (self.say<0) or (self.say == 0) or (self.say == 1):\n",
        "      print(f\"{self.say} bir asal sayı değildir\") \n",
        "    \n",
        "    \n",
        "  def division(self):\n",
        "\n",
        "    for i in range(2,self.say+1):\n",
        "      if self.say%i == 0:\n",
        "        Prime.sa.append(i) \n",
        "  \n",
        "  def bul(self):\n",
        "\n",
        "    if len(Prime.sa) > 1:\n",
        "      print(f\"{self.say} bir asal değildir\")\n",
        "    else:\n",
        "      print(f\"{self.say} bir asal sayısıdır\") \n",
        "\n",
        "sayı1 = Prime(-10)\n",
        "sayı1.positive()\n",
        "sayı1.division()\n",
        "sayı1.bul()   "
      ]
    },
    {
      "cell_type": "code",
      "source": [
        "class Prime:\n",
        "\n",
        "  sa = []\n",
        "\n",
        "  def __init__(self,say):\n",
        "    self.say = say \n",
        "  \n",
        "  def positive(self):\n",
        "    if (self.say == 0) or (self.say == 1):\n",
        "      print(f\"{self.say} bir asal sayı değildir\") \n",
        "    elif (self.say<0):\n",
        "      self.say = -self.say \n",
        "    \n",
        "  def division(self):\n",
        "\n",
        "    for i in range(2,self.say+1):\n",
        "      if self.say%i == 0:\n",
        "        Prime.sa.append(i) \n",
        "  \n",
        "  def bul(self):\n",
        "\n",
        "    if len(Prime.sa) > 1:\n",
        "      print(f\"{self.say} bir asal değildir\")\n",
        "    else:\n",
        "      print(f\"{self.say} bir asal sayısıdır\") \n",
        "\n",
        "sayı1 = Prime(-13)\n",
        "sayı1.positive()\n",
        "sayı1.division()\n",
        "sayı1.bul()   "
      ],
      "metadata": {
        "colab": {
          "base_uri": "https://localhost:8080/"
        },
        "id": "yl_ro0f1hVX3",
        "outputId": "a19acdcd-867d-4324-a162-77ecec5b3cb0"
      },
      "execution_count": 17,
      "outputs": [
        {
          "output_type": "stream",
          "name": "stdout",
          "text": [
            "13 bir asal sayısıdır\n"
          ]
        }
      ]
    },
    {
      "cell_type": "code",
      "source": [
        "class Prime:\n",
        "\n",
        "  sa = []\n",
        "\n",
        "  def __init__(self,say):\n",
        "    self.say = say \n",
        "  \n",
        "  def positive(self):\n",
        "    if (self.say<0) or (self.say == 0) or (self.say == 1):\n",
        "      print(f\"{self.say} bir asal sayı değildir\") \n",
        "    \n",
        "    \n",
        "  def division(self):\n",
        "    for i in range(2,self.say+1):\n",
        "      if self.say%i == 0:\n",
        "        Prime.sa.append(i) \n",
        "  \n",
        "  def bul(self):\n",
        "    if len(Prime.sa) > 1 or len(Prime.sa) == 0:\n",
        "      print(f\"{self.say} bir asal değildir\")\n",
        "    else:\n",
        "      print(f\"{self.say} bir asal sayısıdır\") \n",
        "\n",
        "sayı1 = Prime(-13)\n",
        "sayı1.positive()\n",
        "sayı1.division()\n",
        "sayı1.bul()"
      ],
      "metadata": {
        "colab": {
          "base_uri": "https://localhost:8080/"
        },
        "id": "HAQdH89me7N5",
        "outputId": "36ea1692-350f-4030-e4d3-fdcdcb408b9f"
      },
      "execution_count": 16,
      "outputs": [
        {
          "output_type": "stream",
          "name": "stdout",
          "text": [
            "-13 bir asal sayı değildir\n",
            "-13 bir asal değildir\n"
          ]
        }
      ]
    },
    {
      "cell_type": "code",
      "source": [],
      "metadata": {
        "id": "WgroHoLpg8yy"
      },
      "execution_count": null,
      "outputs": []
    }
  ]
}