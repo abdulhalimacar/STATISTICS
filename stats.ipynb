{
  "nbformat": 4,
  "nbformat_minor": 0,
  "metadata": {
    "colab": {
      "provenance": []
    },
    "kernelspec": {
      "name": "python3",
      "display_name": "Python 3"
    },
    "language_info": {
      "name": "python"
    }
  },
  "cells": [
    {
      "cell_type": "markdown",
      "source": [
        "FINDING CRITICAL VALUES "
      ],
      "metadata": {
        "id": "COW37DrOEkF_"
      }
    },
    {
      "cell_type": "code",
      "source": [
        "from scipy import stats"
      ],
      "metadata": {
        "id": "_R2TG5W0EmHB"
      },
      "execution_count": 1,
      "outputs": []
    },
    {
      "cell_type": "code",
      "source": [
        "stats.norm.ppf(0.01)\n",
        "#left tailed "
      ],
      "metadata": {
        "colab": {
          "base_uri": "https://localhost:8080/"
        },
        "id": "xN1VMkd8EoKW",
        "outputId": "c99ce2aa-a544-460e-be13-f6aaba0ce2de"
      },
      "execution_count": 3,
      "outputs": [
        {
          "output_type": "execute_result",
          "data": {
            "text/plain": [
              "-2.3263478740408408"
            ]
          },
          "metadata": {},
          "execution_count": 3
        }
      ]
    },
    {
      "cell_type": "code",
      "source": [
        "stats.norm.ppf(1-0.01)\n",
        "#right tailed "
      ],
      "metadata": {
        "colab": {
          "base_uri": "https://localhost:8080/"
        },
        "id": "5lGxuFhIErIO",
        "outputId": "b79a98b8-d995-4879-cc15-15a4b2fa5a17"
      },
      "execution_count": 4,
      "outputs": [
        {
          "output_type": "execute_result",
          "data": {
            "text/plain": [
              "2.3263478740408408"
            ]
          },
          "metadata": {},
          "execution_count": 4
        }
      ]
    },
    {
      "cell_type": "code",
      "source": [
        "stats.norm.ppf(1-(0.01/2))\n",
        "#two-tailed "
      ],
      "metadata": {
        "colab": {
          "base_uri": "https://localhost:8080/"
        },
        "id": "5YreRlTsEvmf",
        "outputId": "154b6443-c0bf-4ac9-c62f-e5781cb7514c"
      },
      "execution_count": 6,
      "outputs": [
        {
          "output_type": "execute_result",
          "data": {
            "text/plain": [
              "2.5758293035489004"
            ]
          },
          "metadata": {},
          "execution_count": 6
        }
      ]
    },
    {
      "cell_type": "code",
      "source": [
        "stats.t.ppf(q=0.01,df=24-1)\n",
        "#left-tailed"
      ],
      "metadata": {
        "colab": {
          "base_uri": "https://localhost:8080/"
        },
        "id": "6kqRdsqOFBwb",
        "outputId": "0e70d954-b1ae-4b19-82f2-59595b86b4ef"
      },
      "execution_count": 7,
      "outputs": [
        {
          "output_type": "execute_result",
          "data": {
            "text/plain": [
              "-2.4998667394943985"
            ]
          },
          "metadata": {},
          "execution_count": 7
        }
      ]
    },
    {
      "cell_type": "code",
      "source": [
        "stats.t.ppf(q=1-0.01, df=24-1)\n",
        "#right-tailed"
      ],
      "metadata": {
        "colab": {
          "base_uri": "https://localhost:8080/"
        },
        "id": "-yubqobVFa6j",
        "outputId": "d7038114-5a22-41d5-9818-ee9716c61c73"
      },
      "execution_count": 8,
      "outputs": [
        {
          "output_type": "execute_result",
          "data": {
            "text/plain": [
              "2.4998667394943976"
            ]
          },
          "metadata": {},
          "execution_count": 8
        }
      ]
    },
    {
      "cell_type": "code",
      "source": [
        "stats.t.ppf(q=1-(0.01/2),df=24-1)\n",
        "#two-tailed "
      ],
      "metadata": {
        "colab": {
          "base_uri": "https://localhost:8080/"
        },
        "id": "Jxu56wYyFioV",
        "outputId": "963e608c-f16c-4df2-9345-d1d5584df771"
      },
      "execution_count": 9,
      "outputs": [
        {
          "output_type": "execute_result",
          "data": {
            "text/plain": [
              "2.8073356837675227"
            ]
          },
          "metadata": {},
          "execution_count": 9
        }
      ]
    },
    {
      "cell_type": "markdown",
      "source": [
        "FINDING P-VALUES "
      ],
      "metadata": {
        "id": "v1vBkD_lGIXe"
      }
    },
    {
      "cell_type": "code",
      "source": [
        "1-stats.norm.cdf(0.91)\n",
        "#one-tailed "
      ],
      "metadata": {
        "colab": {
          "base_uri": "https://localhost:8080/"
        },
        "id": "Fn4eDfJ7GKCm",
        "outputId": "a013e746-f98d-48ea-b56e-b1551733b2f0"
      },
      "execution_count": 12,
      "outputs": [
        {
          "output_type": "execute_result",
          "data": {
            "text/plain": [
              "0.1814112548917972"
            ]
          },
          "metadata": {},
          "execution_count": 12
        }
      ]
    },
    {
      "cell_type": "code",
      "source": [
        "2*(1-stats.norm.cdf(1.83))\n",
        "#two-tailed "
      ],
      "metadata": {
        "colab": {
          "base_uri": "https://localhost:8080/"
        },
        "id": "4cAz_6AAGWxp",
        "outputId": "77a2fde2-2c49-4e00-8455-610a275518bc"
      },
      "execution_count": 15,
      "outputs": [
        {
          "output_type": "execute_result",
          "data": {
            "text/plain": [
              "0.06724993883925667"
            ]
          },
          "metadata": {},
          "execution_count": 15
        }
      ]
    },
    {
      "cell_type": "code",
      "source": [
        "1-stats.t.cdf(1.96,df=24-1) \n",
        "#one-tailed "
      ],
      "metadata": {
        "colab": {
          "base_uri": "https://localhost:8080/"
        },
        "id": "8joQyDTWG2EO",
        "outputId": "791472cc-e101-44f2-c1cf-74fe4a2ab9a2"
      },
      "execution_count": 18,
      "outputs": [
        {
          "output_type": "execute_result",
          "data": {
            "text/plain": [
              "0.03111051902587847"
            ]
          },
          "metadata": {},
          "execution_count": 18
        }
      ]
    },
    {
      "cell_type": "code",
      "source": [
        "2*(1-stats.t.cdf(1.96,df=24-1)) \n",
        "#two-tailed "
      ],
      "metadata": {
        "colab": {
          "base_uri": "https://localhost:8080/"
        },
        "id": "xTvM9grGHGNU",
        "outputId": "e0d8f6dc-6d30-4fd3-87e2-9f1b0545ef98"
      },
      "execution_count": 19,
      "outputs": [
        {
          "output_type": "execute_result",
          "data": {
            "text/plain": [
              "0.06222103805175694"
            ]
          },
          "metadata": {},
          "execution_count": 19
        }
      ]
    },
    {
      "cell_type": "code",
      "source": [],
      "metadata": {
        "id": "vvTKNN9iHfnV"
      },
      "execution_count": null,
      "outputs": []
    }
  ]
}