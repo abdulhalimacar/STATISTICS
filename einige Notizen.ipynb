{
  "nbformat": 4,
  "nbformat_minor": 0,
  "metadata": {
    "colab": {
      "provenance": []
    },
    "kernelspec": {
      "name": "python3",
      "display_name": "Python 3"
    },
    "language_info": {
      "name": "python"
    }
  },
  "cells": [
    {
      "cell_type": "code",
      "source": [
        "import numpy as np\n",
        "import pandas as pd\n",
        "from scipy import stats \n",
        "import statistics "
      ],
      "metadata": {
        "id": "b-GXrIhOaRjr"
      },
      "execution_count": 5,
      "outputs": []
    },
    {
      "cell_type": "code",
      "execution_count": 3,
      "metadata": {
        "id": "Kb9RKF6EaLzT"
      },
      "outputs": [],
      "source": [
        " x = [1,2,3,4,5,6,7]"
      ]
    },
    {
      "cell_type": "code",
      "source": [
        "statistics.variance(x)"
      ],
      "metadata": {
        "colab": {
          "base_uri": "https://localhost:8080/"
        },
        "id": "-wgGDYI6aVbj",
        "outputId": "d8ee3f3b-9157-4958-8dd8-432c541ed1bf"
      },
      "execution_count": 6,
      "outputs": [
        {
          "output_type": "execute_result",
          "data": {
            "text/plain": [
              "4.666666666666667"
            ]
          },
          "metadata": {},
          "execution_count": 6
        }
      ]
    },
    {
      "cell_type": "code",
      "source": [
        "stdev = np.sqrt(statistics.variance(x))\n",
        "stdev"
      ],
      "metadata": {
        "colab": {
          "base_uri": "https://localhost:8080/"
        },
        "id": "cKa-wwpIahFh",
        "outputId": "e2977acf-65c0-4d9e-b55b-aeb9f87e659a"
      },
      "execution_count": 7,
      "outputs": [
        {
          "output_type": "execute_result",
          "data": {
            "text/plain": [
              "2.160246899469287"
            ]
          },
          "metadata": {},
          "execution_count": 7
        }
      ]
    },
    {
      "cell_type": "code",
      "source": [
        "statistics.stdev(x)"
      ],
      "metadata": {
        "colab": {
          "base_uri": "https://localhost:8080/"
        },
        "id": "1wAUaxWfatTb",
        "outputId": "3a221bd0-acc8-42a8-f9b5-437b41a5fce7"
      },
      "execution_count": 8,
      "outputs": [
        {
          "output_type": "execute_result",
          "data": {
            "text/plain": [
              "2.160246899469287"
            ]
          },
          "metadata": {},
          "execution_count": 8
        }
      ]
    },
    {
      "cell_type": "code",
      "source": [
        "#population standard deviation calculation >>> statistics.pstdev(x)"
      ],
      "metadata": {
        "id": "tXVtXFqsaz3V"
      },
      "execution_count": 9,
      "outputs": []
    },
    {
      "cell_type": "code",
      "source": [
        "statistics.pstdev(x)"
      ],
      "metadata": {
        "colab": {
          "base_uri": "https://localhost:8080/"
        },
        "id": "IX254TQ5a6S-",
        "outputId": "392fe4f7-0846-4262-a48f-94ec9c76eab4"
      },
      "execution_count": 10,
      "outputs": [
        {
          "output_type": "execute_result",
          "data": {
            "text/plain": [
              "2.0"
            ]
          },
          "metadata": {},
          "execution_count": 10
        }
      ]
    },
    {
      "cell_type": "code",
      "source": [],
      "metadata": {
        "id": "s7HAtIlya8Tv"
      },
      "execution_count": null,
      "outputs": []
    }
  ]
}