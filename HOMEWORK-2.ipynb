{
  "nbformat": 4,
  "nbformat_minor": 0,
  "metadata": {
    "colab": {
      "provenance": []
    },
    "kernelspec": {
      "name": "python3",
      "display_name": "Python 3"
    },
    "language_info": {
      "name": "python"
    }
  },
  "cells": [
    {
      "cell_type": "code",
      "execution_count": 1,
      "metadata": {
        "id": "OLCCsA-X3OOi"
      },
      "outputs": [],
      "source": [
        "import pandas as pd"
      ]
    },
    {
      "cell_type": "code",
      "source": [
        "import numpy as np\n",
        "import seaborn as sns \n",
        "import matplotlib.pyplot as plt\n",
        "import matplotlib\n",
        "from scipy import stats"
      ],
      "metadata": {
        "id": "rMoVLFDJ3c5W"
      },
      "execution_count": 2,
      "outputs": []
    },
    {
      "cell_type": "code",
      "source": [
        "#the answer for the first question"
      ],
      "metadata": {
        "id": "8NAodMyv5vqY"
      },
      "execution_count": 16,
      "outputs": []
    },
    {
      "cell_type": "code",
      "source": [
        "sigma = 3\n",
        "n = 36\n",
        "x_bar = 68"
      ],
      "metadata": {
        "id": "4_mlQ7x55CjU"
      },
      "execution_count": 13,
      "outputs": []
    },
    {
      "cell_type": "code",
      "source": [
        "sem = sigma / np.sqrt(n)\n",
        "sem "
      ],
      "metadata": {
        "colab": {
          "base_uri": "https://localhost:8080/"
        },
        "id": "zmkavYfh5b9v",
        "outputId": "f11a9776-b361-4b88-d487-a2be82220ff1"
      },
      "execution_count": 14,
      "outputs": [
        {
          "output_type": "execute_result",
          "data": {
            "text/plain": [
              "0.5"
            ]
          },
          "metadata": {},
          "execution_count": 14
        }
      ]
    },
    {
      "cell_type": "code",
      "source": [
        "stats.norm.interval(0.90, loc=x_bar, scale=sem)"
      ],
      "metadata": {
        "colab": {
          "base_uri": "https://localhost:8080/"
        },
        "id": "kKtWbNKk5iKr",
        "outputId": "f7f41758-7648-4ced-f0d4-a867a794366a"
      },
      "execution_count": 15,
      "outputs": [
        {
          "output_type": "execute_result",
          "data": {
            "text/plain": [
              "(67.17757318652427, 68.82242681347573)"
            ]
          },
          "metadata": {},
          "execution_count": 15
        }
      ]
    },
    {
      "cell_type": "code",
      "source": [
        "#the answer for the second question"
      ],
      "metadata": {
        "id": "INVp6SoL5qm-"
      },
      "execution_count": 17,
      "outputs": []
    },
    {
      "cell_type": "code",
      "source": [
        "n = 130\n",
        "x_bar = 98.25\n",
        "sigma_for_the_sample = 0.73"
      ],
      "metadata": {
        "id": "dTI1uOEv50b4"
      },
      "execution_count": 25,
      "outputs": []
    },
    {
      "cell_type": "code",
      "source": [
        "sem2 = sigma_for_the_sample / np.sqrt(n)\n",
        "sem2"
      ],
      "metadata": {
        "colab": {
          "base_uri": "https://localhost:8080/"
        },
        "id": "iVDBn3iv54Mm",
        "outputId": "a08a66c7-1700-4512-b6f5-88cbe167fbca"
      },
      "execution_count": 26,
      "outputs": [
        {
          "output_type": "execute_result",
          "data": {
            "text/plain": [
              "0.06402523540941313"
            ]
          },
          "metadata": {},
          "execution_count": 26
        }
      ]
    },
    {
      "cell_type": "code",
      "source": [
        "stats.norm.interval(0.99, loc=x_bar, scale=sem2)"
      ],
      "metadata": {
        "colab": {
          "base_uri": "https://localhost:8080/"
        },
        "id": "BKGFAOg659YQ",
        "outputId": "f8286a66-cc4b-4af8-faac-ca312a98386e"
      },
      "execution_count": 22,
      "outputs": [
        {
          "output_type": "execute_result",
          "data": {
            "text/plain": [
              "(98.08508192246582, 98.41491807753418)"
            ]
          },
          "metadata": {},
          "execution_count": 22
        }
      ]
    },
    {
      "cell_type": "code",
      "source": [
        "#the answer for the third question"
      ],
      "metadata": {
        "id": "iPkSL-SC6EW2"
      },
      "execution_count": 23,
      "outputs": []
    },
    {
      "cell_type": "code",
      "source": [
        "n = 500\n",
        "X_bar = 5.4\n",
        "sigma_for_the_Sample = 3.1"
      ],
      "metadata": {
        "id": "3kdGxOeK6H0T"
      },
      "execution_count": 31,
      "outputs": []
    },
    {
      "cell_type": "code",
      "source": [
        "sem3 = sigma_for_the_Sample / np.sqrt(n)\n",
        "sem3"
      ],
      "metadata": {
        "colab": {
          "base_uri": "https://localhost:8080/"
        },
        "id": "5-NnNlVh6gS4",
        "outputId": "a35134d1-438f-4c7e-d794-03e644ff2dc8"
      },
      "execution_count": 32,
      "outputs": [
        {
          "output_type": "execute_result",
          "data": {
            "text/plain": [
              "0.13863621460498696"
            ]
          },
          "metadata": {},
          "execution_count": 32
        }
      ]
    },
    {
      "cell_type": "code",
      "source": [
        "stats.norm.interval(0.95, loc=X_bar, scale=sem3)"
      ],
      "metadata": {
        "colab": {
          "base_uri": "https://localhost:8080/"
        },
        "id": "_L3S1qKh6Z21",
        "outputId": "b67bfc9b-da01-4274-a695-2c821c0f7c59"
      },
      "execution_count": 33,
      "outputs": [
        {
          "output_type": "execute_result",
          "data": {
            "text/plain": [
              "(5.12827801242126, 5.67172198757874)"
            ]
          },
          "metadata": {},
          "execution_count": 33
        }
      ]
    }
  ]
}